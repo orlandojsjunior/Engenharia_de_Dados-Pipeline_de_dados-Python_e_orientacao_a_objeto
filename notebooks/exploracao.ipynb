{
 "cells": [
  {
   "cell_type": "markdown",
   "metadata": {},
   "source": [
    "# Pipeline de dados: combinando Python e orientação a objeto"
   ]
  },
  {
   "cell_type": "code",
   "execution_count": 1,
   "metadata": {},
   "outputs": [],
   "source": [
    "# Importando as bibliotecas necessárias\n",
    "\n",
    "import pandas as pd"
   ]
  },
  {
   "cell_type": "markdown",
   "metadata": {},
   "source": [
    "# Lendo os dados"
   ]
  },
  {
   "cell_type": "code",
   "execution_count": 2,
   "metadata": {},
   "outputs": [],
   "source": [
    "# Definindo o caminho para o arquivo JSON\n",
    "\n",
    "path_json = '../data_raw/dados_empresaA.json'"
   ]
  },
  {
   "cell_type": "code",
   "execution_count": 3,
   "metadata": {},
   "outputs": [
    {
     "name": "stdout",
     "output_type": "stream",
     "text": [
      "[{\"Nome do Produto\":\"Blush em p\\u00f3\",\"Categoria do Produto\":\"Eletrodom\\u00e9sticos\",\"Pre\\u00e7o do Produto (R$)\":79.41,\"Quantidade em Estoque\":7,\"Filial\":\"Filial 7\"},\n",
      "\n"
     ]
    }
   ],
   "source": [
    "# Abre o arquivo JSON no modo de leitura ('r').\n",
    "with open(path_json, 'r') as file: \n",
    "    # Lê a primeira linha do arquivo e imprime no console\n",
    "    print(file.readline())"
   ]
  },
  {
   "cell_type": "markdown",
   "metadata": {},
   "source": [
    "Explicação dos Comentários:\n",
    "\n",
    "1 - Abre o arquivo JSON no modo de leitura ('r'): \n",
    "\n",
    "    A declaração with open(path_json, 'r') as file: abre o arquivo especificado pela variável path_json no modo de leitura. O uso da declaração with garante que o arquivo será corretamente fechado após a execução do bloco de código, mesmo que ocorra uma exceção.\n",
    "\n",
    "2 - Lê a primeira linha do arquivo e imprime no console: \n",
    "\n",
    "    A função file.readline() lê a primeira linha do arquivo e a função print imprime essa linha no console. Se o arquivo estiver vazio, readline retornará uma string vazia."
   ]
  },
  {
   "cell_type": "markdown",
   "metadata": {},
   "source": [
    "# Lendo dados com readline"
   ]
  },
  {
   "cell_type": "code",
   "execution_count": 4,
   "metadata": {},
   "outputs": [],
   "source": [
    "# Abre o arquivo JSON no modo de leitura ('r').\n",
    "with open(path_json, 'r') as file: \n",
    "# Cria a variavel dados e lê a primeira linha do arquivo.\n",
    "    dados = file.readline()"
   ]
  },
  {
   "cell_type": "code",
   "execution_count": 5,
   "metadata": {},
   "outputs": [
    {
     "data": {
      "text/plain": [
       "str"
      ]
     },
     "execution_count": 5,
     "metadata": {},
     "output_type": "execute_result"
    }
   ],
   "source": [
    "type(dados)"
   ]
  },
  {
   "cell_type": "markdown",
   "metadata": {},
   "source": [
    "### Selecionando dados específicos"
   ]
  },
  {
   "cell_type": "code",
   "execution_count": 6,
   "metadata": {},
   "outputs": [
    {
     "data": {
      "text/plain": [
       "'{'"
      ]
     },
     "execution_count": 6,
     "metadata": {},
     "output_type": "execute_result"
    }
   ],
   "source": [
    "dados[1]"
   ]
  },
  {
   "cell_type": "code",
   "execution_count": 7,
   "metadata": {},
   "outputs": [
    {
     "data": {
      "text/plain": [
       "'P'"
      ]
     },
     "execution_count": 7,
     "metadata": {},
     "output_type": "execute_result"
    }
   ],
   "source": [
    "dados[11]"
   ]
  },
  {
   "cell_type": "markdown",
   "metadata": {},
   "source": [
    "Conclusão:\n",
    "\n",
    "Precisamos encontrar uma maneira de identificar as linhas dos nossos dados. Cada linha representa um registro e as nossas colunas. Precisamos que a nossa leitura seja capaz de identificar esses dois pontos principais de linhas e colunas e também que traduza isso em uma estrutura que faça sentido, que não seja o tipo de dado string."
   ]
  },
  {
   "cell_type": "markdown",
   "metadata": {},
   "source": [
    "# Lendo dados com JSON"
   ]
  },
  {
   "cell_type": "markdown",
   "metadata": {},
   "source": [
    "O principal objetivo deste projeto é combinar os arquivos da empresa A com os da empresa B e disponibilizar esse arquivo unido para a equipe de análise. Mas não apenas isso, nós precisamos fornecer uma solução que seja reproduzível para os meses seguintes.\n",
    "\n",
    "Pensando nisso, já construímos uma estrutura de pastas que obedece às diretrizes de um bom desenvolvimento e engenharia de software, princípios estes que precisam ser implementados em nosso pipeline.\n",
    "\n",
    "Outra característica que implementamos foi a criação de um ambiente virtual Python, isolando todas as nossas instalações e versões do restante da máquina. Dessa forma, todas as pessoas envolvidas no projeto terão as mesmas estruturas e características, permitindo um trabalho em conjunto e eficiente.\n",
    "\n",
    "Nosso primeiro passo, ao lidar com esses dados, foi criar um notebook onde realizamos a leitura desses dados e os exibimos na tela. Identificamos que a leitura desses dados, da maneira padrão usando a biblioteca Open e o método readline(), estava retornando esses dados em formato de string, um formato legível, mas que não permite manipulação. Essa leitura não leva em consideração as quebras de linha, onde identificamos cada um dos registros desses dados, nem as colunas. Portanto, manipular esses dados seria bem difícil.\n",
    "\n",
    "Para melhorar a leitura e construir uma estrutura que faça mais sentido para os nossos dados, vamos importar uma biblioteca específica para essa situação, a biblioteca JSON. Essa biblioteca já vem por padrão no Python e só precisamos importá-la para o nosso notebook."
   ]
  },
  {
   "cell_type": "code",
   "execution_count": 8,
   "metadata": {},
   "outputs": [],
   "source": [
    "import json"
   ]
  },
  {
   "cell_type": "markdown",
   "metadata": {},
   "source": [
    "A leitura ainda precisará do Open, então podemos selecionar a última vez que o utilizamos.\n",
    "\n",
    "Vamos relembrar: if open path_json, 'r') as file:. Essa é a função responsável por ler nosso arquivo. Para identificar a estrutura, vamos utilizar o JSON, então podemos digitar json.load(). Essa é a função do JSON que será capaz de identificar os padrões no nosso arquivo.\n",
    "\n",
    "Ele espera receber o arquivo aberto, ou seja, podemos colocar o parâmetro file entre parênteses. Agora, onde queremos que a leitura salve essas informações? Podemos criar uma variável chamada dados_json igual a json.load(file)."
   ]
  },
  {
   "cell_type": "code",
   "execution_count": 9,
   "metadata": {},
   "outputs": [],
   "source": [
    "# Abre o arquivo JSON no modo de leitura ('r')\n",
    "with open(path_json, 'r') as file:\n",
    "    # Carrega o conteúdo do arquivo JSON em um objeto Python (geralmente um dicionário)\n",
    "    dados_json = json.load(file)"
   ]
  },
  {
   "cell_type": "markdown",
   "metadata": {},
   "source": [
    "Para verificar o resultado, na célula abaixo, podemos digitar dados_json[0]. Esse seletor de colchetes [] é comum no Python e usamos isso em listas quando queremos acessar o primeiro registro.\n",
    "\n",
    "Ao executar, obtemos nossos dados com uma estrutura bem interessante."
   ]
  },
  {
   "cell_type": "code",
   "execution_count": 15,
   "metadata": {},
   "outputs": [
    {
     "data": {
      "text/plain": [
       "{'Nome do Produto': 'Blush em pó',\n",
       " 'Categoria do Produto': 'Eletrodomésticos',\n",
       " 'Preço do Produto (R$)': 79.41,\n",
       " 'Quantidade em Estoque': 7,\n",
       " 'Filial': 'Filial 7'}"
      ]
     },
     "execution_count": 15,
     "metadata": {},
     "output_type": "execute_result"
    }
   ],
   "source": [
    "dados_json[0]"
   ]
  },
  {
   "cell_type": "code",
   "execution_count": 18,
   "metadata": {},
   "outputs": [
    {
     "data": {
      "text/plain": [
       "{'Nome do Produto': 'Lápis de sobrancelha',\n",
       " 'Categoria do Produto': 'Eletrodomésticos',\n",
       " 'Preço do Produto (R$)': 85.47,\n",
       " 'Quantidade em Estoque': 78,\n",
       " 'Filial': 'Filial 8'}"
      ]
     },
     "execution_count": 18,
     "metadata": {},
     "output_type": "execute_result"
    }
   ],
   "source": [
    "dados_json[1]"
   ]
  },
  {
   "cell_type": "code",
   "execution_count": 12,
   "metadata": {},
   "outputs": [
    {
     "data": {
      "text/plain": [
       "list"
      ]
     },
     "execution_count": 12,
     "metadata": {},
     "output_type": "execute_result"
    }
   ],
   "source": [
    "type(dados_json)"
   ]
  },
  {
   "cell_type": "code",
   "execution_count": 17,
   "metadata": {},
   "outputs": [
    {
     "data": {
      "text/plain": [
       "dict"
      ]
     },
     "execution_count": 17,
     "metadata": {},
     "output_type": "execute_result"
    }
   ],
   "source": [
    "type(dados_json[0])"
   ]
  },
  {
   "cell_type": "code",
   "execution_count": null,
   "metadata": {},
   "outputs": [],
   "source": []
  }
 ],
 "metadata": {
  "kernelspec": {
   "display_name": "Python 3",
   "language": "python",
   "name": "python3"
  },
  "language_info": {
   "codemirror_mode": {
    "name": "ipython",
    "version": 3
   },
   "file_extension": ".py",
   "mimetype": "text/x-python",
   "name": "python",
   "nbconvert_exporter": "python",
   "pygments_lexer": "ipython3",
   "version": "3.10.15"
  }
 },
 "nbformat": 4,
 "nbformat_minor": 2
}
